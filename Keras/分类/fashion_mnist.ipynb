{
  "nbformat": 4,
  "nbformat_minor": 0,
  "metadata": {
    "colab": {
      "name": "fashion_mnist",
      "version": "0.3.2",
      "provenance": [],
      "collapsed_sections": [],
      "include_colab_link": true
    },
    "kernelspec": {
      "name": "python3",
      "display_name": "Python 3"
    }
  },
  "cells": [
    {
      "cell_type": "markdown",
      "metadata": {
        "id": "view-in-github",
        "colab_type": "text"
      },
      "source": [
        "<a href=\"https://colab.research.google.com/github/wx-chevalier/AIDL-Workbench/blob/master/keras/ml/classification/fashion_mnist.ipynb\" target=\"_parent\"><img src=\"https://colab.research.google.com/assets/colab-badge.svg\" alt=\"Open In Colab\"/></a>"
      ]
    },
    {
      "cell_type": "code",
      "metadata": {
        "id": "nMQV6UBFwk4s",
        "colab_type": "code",
        "colab": {}
      },
      "source": [
        "# 基于 Keras 的 Fashion Mnist 分类预测\n",
        "\n",
        "> https://github.com/coding-yogini/TensorFlow-NNs/blob/master/NN_MNIST_depth.ipynb\n"
      ],
      "execution_count": 0,
      "outputs": []
    }
  ]
}